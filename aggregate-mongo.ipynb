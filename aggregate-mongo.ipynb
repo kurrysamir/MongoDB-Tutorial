{
 "cells": [
  {
   "cell_type": "code",
   "execution_count": 1,
   "id": "4cf4a17f-fb98-4504-8179-692c60270952",
   "metadata": {},
   "outputs": [
    {
     "data": {
      "text/plain": [
       "<pymongo.results.InsertManyResult at 0x24fb743a170>"
      ]
     },
     "execution_count": 1,
     "metadata": {},
     "output_type": "execute_result"
    }
   ],
   "source": [
    "from pymongo import MongoClient  \n",
    "    \n",
    "# creation of object MongoClient  \n",
    "client=MongoClient()  \n",
    "    \n",
    "# Connect with the portnumber and host  \n",
    "client = MongoClient(\"mongodb://localhost:27017/\")  \n",
    "    \n",
    "# Access database  \n",
    "mydatabase = client['Students']  \n",
    "    \n",
    "# Access collection of the database  \n",
    "collection=mydatabase['studentscores']  \n",
    "data = [ \n",
    "    {\"user\":\"Samir\", \"subject\":\"Database\", \"score\":80}, \n",
    "    {\"user\":\"Suchit\",  \"subject\":\"JavaScript\", \"score\":90}, \n",
    "    {\"user\":\"Sanket\",  \"title\":\"Database\", \"score\":85}, \n",
    "    {\"user\":\"Sanket\",  \"title\":\"JavaScript\", \"score\":75}, \n",
    "    {\"user\":\"Samir\",  \"title\":\"Data Science\", \"score\":60},\n",
    "    {\"user\":\"Suchit\",  \"title\":\"Data Science\", \"score\":95}] \n",
    "  \n",
    "collection.insert_many(data) "
   ]
  },
  {
   "cell_type": "code",
   "execution_count": 4,
   "id": "446a0866-4db2-4c2d-897b-aa8aae884984",
   "metadata": {},
   "outputs": [],
   "source": [
    "### Find Samir, Suchit, Sanket Total Subjects\n",
    "agg_result= collection.aggregate( \n",
    "    [{ \n",
    "    \"$group\" :  \n",
    "        {\"_id\" : \"$user\",  \n",
    "         \"Total Subject\" : {\"$sum\" : 1} \n",
    "         }} \n",
    "    ]) "
   ]
  },
  {
   "cell_type": "code",
   "execution_count": 5,
   "id": "1ff44ecb-ce72-4acf-a8a7-87b350172281",
   "metadata": {},
   "outputs": [
    {
     "name": "stdout",
     "output_type": "stream",
     "text": [
      "{'_id': 'Samir', 'Total Subject': 2}\n",
      "{'_id': 'Suchit', 'Total Subject': 2}\n",
      "{'_id': 'Sanket', 'Total Subject': 2}\n"
     ]
    }
   ],
   "source": [
    "for i in agg_result: \n",
    "    print(i)"
   ]
  },
  {
   "cell_type": "code",
   "execution_count": 6,
   "id": "2a6ea784-e186-4d59-b214-e0944bfa5eb1",
   "metadata": {},
   "outputs": [
    {
     "name": "stdout",
     "output_type": "stream",
     "text": [
      "{'_id': 'Samir', 'Total Marks': 140}\n",
      "{'_id': 'Suchit', 'Total Marks': 185}\n",
      "{'_id': 'Sanket', 'Total Marks': 160}\n"
     ]
    }
   ],
   "source": [
    "### Calculating the total score based on user\n",
    "agg_result= collection.aggregate( \n",
    "    [{ \n",
    "    \"$group\" :  \n",
    "        {\"_id\" : \"$user\",  \n",
    "         \"Total Marks\" : {\"$sum\" :\"$score\"} \n",
    "         }} \n",
    "    ]) \n",
    "for i in agg_result: \n",
    "    print(i)"
   ]
  },
  {
   "cell_type": "code",
   "execution_count": 7,
   "id": "a4b25258-7803-4f79-a56b-7a6aa0f4e9f1",
   "metadata": {},
   "outputs": [
    {
     "name": "stdout",
     "output_type": "stream",
     "text": [
      "{'_id': 'Samir', 'StudentScoreAverage': 70.0}\n",
      "{'_id': 'Suchit', 'StudentScoreAverage': 92.5}\n",
      "{'_id': 'Sanket', 'StudentScoreAverage': 80.0}\n"
     ]
    }
   ],
   "source": [
    "### Calculating the average score based on user\n",
    "agg_result=collection.aggregate([\n",
    "   {\n",
    "      \"$group\": {\n",
    "         \"_id\": '$user',\n",
    "         \"StudentScoreAverage\": {\n",
    "            \"$avg\": \"$score\"\n",
    "         }\n",
    "      }\n",
    "   }\n",
    "])\n",
    "for i in agg_result: \n",
    "    print(i)"
   ]
  },
  {
   "cell_type": "code",
   "execution_count": 8,
   "id": "5d5c6df4-ecf5-4306-9918-cb4158fad681",
   "metadata": {},
   "outputs": [],
   "source": [
    "import datetime as datetime"
   ]
  },
  {
   "cell_type": "code",
   "execution_count": 17,
   "id": "8f2d4ea4-17ef-4d48-bbd5-e518ac49e600",
   "metadata": {},
   "outputs": [],
   "source": [
    "### Create a new collection\n",
    "data=[{ \"_id\" : 1, \"item\" : \"pizza\", \"price\" : 10, \"quantity\" : 2, \"date\" : datetime.datetime.utcnow()},\n",
    "{ \"_id\" : 2, \"item\" : \"buger\", \"price\" : 20, \"quantity\" : 1, \"date\" : datetime.datetime.utcnow() },\n",
    "{ \"_id\" : 3, \"item\" : \"sandwich\", \"price\" : 5, \"quantity\" : 5, \"date\" : datetime.datetime.utcnow() },\n",
    "{ \"_id\" : 4, \"item\" : \"pasta\", \"price\" : 10, \"quantity\" : 10, \"date\" : datetime.datetime.utcnow() },\n",
    "{ \"_id\" : 5, \"item\" : \"icecream\", \"price\" : 5, \"quantity\" : 10, \"date\" :datetime.datetime.utcnow() }]"
   ]
  },
  {
   "cell_type": "code",
   "execution_count": 18,
   "id": "e9b3909b-025a-4b58-8ba0-ca6745a4a424",
   "metadata": {},
   "outputs": [
    {
     "data": {
      "text/plain": [
       "[{'_id': 1,\n",
       "  'item': 'pizza',\n",
       "  'price': 10,\n",
       "  'quantity': 2,\n",
       "  'date': datetime.datetime(2022, 12, 27, 14, 20, 26, 865985)},\n",
       " {'_id': 2,\n",
       "  'item': 'buger',\n",
       "  'price': 20,\n",
       "  'quantity': 1,\n",
       "  'date': datetime.datetime(2022, 12, 27, 14, 20, 26, 865985)},\n",
       " {'_id': 3,\n",
       "  'item': 'sandwich',\n",
       "  'price': 5,\n",
       "  'quantity': 5,\n",
       "  'date': datetime.datetime(2022, 12, 27, 14, 20, 26, 865985)},\n",
       " {'_id': 4,\n",
       "  'item': 'pasta',\n",
       "  'price': 10,\n",
       "  'quantity': 10,\n",
       "  'date': datetime.datetime(2022, 12, 27, 14, 20, 26, 865985)},\n",
       " {'_id': 5,\n",
       "  'item': 'icecream',\n",
       "  'price': 5,\n",
       "  'quantity': 10,\n",
       "  'date': datetime.datetime(2022, 12, 27, 14, 20, 26, 865985)}]"
      ]
     },
     "execution_count": 18,
     "metadata": {},
     "output_type": "execute_result"
    }
   ],
   "source": [
    "data"
   ]
  },
  {
   "cell_type": "code",
   "execution_count": 20,
   "id": "4e5faf87-5063-47e9-99f1-fdd0b23ae7cd",
   "metadata": {},
   "outputs": [
    {
     "data": {
      "text/plain": [
       "<pymongo.results.InsertManyResult at 0x24fb7438850>"
      ]
     },
     "execution_count": 20,
     "metadata": {},
     "output_type": "execute_result"
    }
   ],
   "source": [
    "mycollection=mydatabase['stores']  \n",
    "mycollection.insert_many(data)"
   ]
  },
  {
   "cell_type": "code",
   "execution_count": 21,
   "id": "5828aa6a-74cb-4059-af18-7a8f2c254830",
   "metadata": {},
   "outputs": [
    {
     "name": "stdout",
     "output_type": "stream",
     "text": [
      "{'_id': 'buger', 'avgAmount': 20.0, 'avgQuantity': 1.0}\n",
      "{'_id': 'pasta', 'avgAmount': 100.0, 'avgQuantity': 10.0}\n",
      "{'_id': 'sandwich', 'avgAmount': 25.0, 'avgQuantity': 5.0}\n",
      "{'_id': 'icecream', 'avgAmount': 50.0, 'avgQuantity': 10.0}\n",
      "{'_id': 'pizza', 'avgAmount': 20.0, 'avgQuantity': 2.0}\n"
     ]
    }
   ],
   "source": [
    "### Calculating the average quantity And Average Price\n",
    "agg_result=mycollection.aggregate([\n",
    "   {\n",
    "      \"$group\": {\n",
    "         \"_id\": '$item',\n",
    "         \"avgAmount\": {\"$avg\": {\"$multiply\": [ \"$price\", \"$quantity\" ]}},\n",
    "          \"avgQuantity\": { \"$avg\": \"$quantity\" }\n",
    "      }\n",
    "   }\n",
    "])\n",
    "for i in agg_result: \n",
    "    print(i)"
   ]
  },
  {
   "cell_type": "code",
   "execution_count": 26,
   "id": "c4cb1bc3-2dfd-471c-a3c4-325eea2e4ea8",
   "metadata": {},
   "outputs": [],
   "source": [
    "#### $Project\n",
    "\n",
    "data=[{\n",
    "  \"_id\" : 1,\n",
    "  \"title\": \"Mongo DB\",\n",
    "  \"isbn\": \"0001122223334\",\n",
    "  \"author\": { \"last\": \"zzz\", \"first\": \"aaa\" },\n",
    "  \"copies\": 5\n",
    "},\n",
    "{\n",
    "  \"_id\" : 2,\n",
    "  \"title\": \"Python\",\n",
    "  \"isbn\": \"9999999999999\",\n",
    "  \"author\": { \"last\": \"xyz\", \"first\": \"abc\", \"middle\": \"\" },\n",
    "  \"copies\": 2\n",
    "}\n",
    "]"
   ]
  },
  {
   "cell_type": "code",
   "execution_count": 27,
   "id": "7c5e6b9a-292f-466f-be72-7f31d11b6151",
   "metadata": {},
   "outputs": [],
   "source": [
    "# Access collection of the database  \n",
    "collection=mydatabase['books']"
   ]
  },
  {
   "cell_type": "code",
   "execution_count": 28,
   "id": "cff390bd-6465-4e94-99bf-c899dadedac6",
   "metadata": {},
   "outputs": [
    {
     "data": {
      "text/plain": [
       "<pymongo.results.InsertManyResult at 0x24fb8963880>"
      ]
     },
     "execution_count": 28,
     "metadata": {},
     "output_type": "execute_result"
    }
   ],
   "source": [
    "collection.insert_many(data)"
   ]
  },
  {
   "cell_type": "code",
   "execution_count": 29,
   "id": "68827725-bd9a-4912-9ab6-bdb3e09bb816",
   "metadata": {},
   "outputs": [
    {
     "name": "stdout",
     "output_type": "stream",
     "text": [
      "{'_id': 1, 'title': 'Mongo DB', 'isbn': '0001122223334'}\n",
      "{'_id': 2, 'title': 'Python', 'isbn': '9999999999999'}\n"
     ]
    }
   ],
   "source": [
    "for row in collection.aggregate( [ { \"$project\": { \"title\": 1,\"isbn\":1 } } ] ):\n",
    "    print(row)"
   ]
  },
  {
   "cell_type": "code",
   "execution_count": null,
   "id": "456d06c1-3c36-45f1-91c7-3ad2a030d47e",
   "metadata": {},
   "outputs": [],
   "source": []
  }
 ],
 "metadata": {
  "kernelspec": {
   "display_name": "Python 3 (ipykernel)",
   "language": "python",
   "name": "python3"
  },
  "language_info": {
   "codemirror_mode": {
    "name": "ipython",
    "version": 3
   },
   "file_extension": ".py",
   "mimetype": "text/x-python",
   "name": "python",
   "nbconvert_exporter": "python",
   "pygments_lexer": "ipython3",
   "version": "3.10.7"
  }
 },
 "nbformat": 4,
 "nbformat_minor": 5
}
