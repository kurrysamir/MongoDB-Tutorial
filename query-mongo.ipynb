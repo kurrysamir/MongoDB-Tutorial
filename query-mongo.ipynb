{
 "cells": [
  {
   "cell_type": "code",
   "execution_count": 5,
   "id": "bcd7c6bd-bab0-498e-ab16-f811c1088987",
   "metadata": {},
   "outputs": [],
   "source": [
    "import pymongo\n",
    "\n",
    "client=pymongo.MongoClient('mongodb://127.0.0.1:27017/')\n",
    "\n",
    "mydb=client['Restaurant']\n",
    "restaurantInfo=mydb.restaurantinformation"
   ]
  },
  {
   "cell_type": "code",
   "execution_count": 6,
   "id": "ca1e37c3-b65a-45b7-8782-bef685ddfae4",
   "metadata": {},
   "outputs": [
    {
     "data": {
      "text/plain": [
       "<pymongo.results.InsertOneResult at 0x2c5a9a4d720>"
      ]
     },
     "execution_count": 6,
     "metadata": {},
     "output_type": "execute_result"
    }
   ],
   "source": [
    "record={\n",
    "        'restaurantName':'Waynes Coffee',\n",
    "        'region':'Stockholm',\n",
    "        'branch':'T-Centralen',\n",
    "        'manager':'John Snow',\n",
    "        'openedyear':2000\n",
    "        }\n",
    "restaurantInfo.insert_one(record)"
   ]
  },
  {
   "cell_type": "code",
   "execution_count": 7,
   "id": "53af6485-82ee-4100-ae3e-f29fa3146364",
   "metadata": {},
   "outputs": [],
   "source": [
    "records=[{\n",
    "        'restaurantName':'Waynes Coffee',\n",
    "        'region':'Stockholm',\n",
    "        'branch':'Radhuset',\n",
    "        'manager':'Tom Hanks',\n",
    "        'openedyear':2002\n",
    "        \n",
    "        },\n",
    "         {\n",
    "        'restaurantName':'Waynes Coffee',\n",
    "        'region':'Stockholm',\n",
    "        'branch':'Fredhemsplan',\n",
    "        'manager':'Bruce Willis',\n",
    "        'openedyear':2003\n",
    "        },\n",
    "        {\n",
    "        'restaurantName':'Waynes Coffee',\n",
    "        'region':'Stockholm',\n",
    "        'branch':'Solna',\n",
    "        'manager':'Tom Cruise',\n",
    "        'openedyear':2004\n",
    "        },\n",
    "        {\n",
    "        'restaurantName':'Waynes Coffee',\n",
    "        'region':'Stockholm',\n",
    "        'branch':'Sundyberg',\n",
    "        'manager':'Vin Diesel',\n",
    "        'openedyear':2001\n",
    "        }]\n",
    "restaurantInfo.insert_many(records)"
   ]
  },
  {
   "cell_type": "code",
   "execution_count": 11,
   "id": "07fc674b-ea56-488e-9a93-b16b066b0da9",
   "metadata": {},
   "outputs": [
    {
     "data": {
      "text/plain": [
       "{'_id': ObjectId('63a8ca3ec5af49a19f38219e'),\n",
       " 'restaurantName': 'Waynes Coffee',\n",
       " 'region': 'Stockholm',\n",
       " 'branch': 'T-Centralen',\n",
       " 'manager': 'John Snow',\n",
       " 'openedyear': 2000}"
      ]
     },
     "execution_count": 11,
     "metadata": {},
     "output_type": "execute_result"
    }
   ],
   "source": [
    "## Get the 1st record in the collection\n",
    "restaurantInfo.find_one()"
   ]
  },
  {
   "cell_type": "code",
   "execution_count": 14,
   "id": "71737556-78c4-46ed-a8e7-2f32e2dea5ee",
   "metadata": {},
   "outputs": [
    {
     "name": "stdout",
     "output_type": "stream",
     "text": [
      "{'_id': ObjectId('63a8ca3ec5af49a19f38219e'), 'restaurantName': 'Waynes Coffee', 'region': 'Stockholm', 'branch': 'T-Centralen', 'manager': 'John Snow', 'openedyear': 2000}\n",
      "{'_id': ObjectId('63a8cb4dc5af49a19f38219f'), 'restaurantName': 'Waynes Coffee', 'region': 'Stockholm', 'branch': 'Radhuset', 'manager': 'Tom Hanks', 'openedyear': 2002}\n",
      "{'_id': ObjectId('63a8cb4dc5af49a19f3821a0'), 'restaurantName': 'Waynes Coffee', 'region': 'Stockholm', 'branch': 'Fredhemsplan', 'manager': 'Bruce Willis', 'openedyear': 2003}\n",
      "{'_id': ObjectId('63a8cb4dc5af49a19f3821a1'), 'restaurantName': 'Waynes Coffee', 'region': 'Stockholm', 'branch': 'Solna', 'manager': 'Tom Cruise', 'openedyear': 2004}\n",
      "{'_id': ObjectId('63a8cb4dc5af49a19f3821a2'), 'restaurantName': 'Waynes Coffee', 'region': 'Stockholm', 'branch': 'Sundyberg', 'manager': 'Vin Diesel', 'openedyear': 2001}\n"
     ]
    }
   ],
   "source": [
    "## Select * from restaurantInfo\n",
    "for record in restaurantInfo.find({}):\n",
    "    print(record)"
   ]
  },
  {
   "cell_type": "code",
   "execution_count": 16,
   "id": "03959985-71da-4579-89b2-9d2b7ed4857f",
   "metadata": {},
   "outputs": [
    {
     "name": "stdout",
     "output_type": "stream",
     "text": [
      "{'_id': ObjectId('63a8cb4dc5af49a19f38219f'), 'restaurantName': 'Waynes Coffee', 'region': 'Stockholm', 'branch': 'Radhuset', 'manager': 'Tom Hanks', 'openedyear': 2002}\n"
     ]
    }
   ],
   "source": [
    "## Query the json documents based on equality conditions\n",
    "# Select * from restaurantInfo where branch=Radhuset\n",
    "\n",
    "for record in restaurantInfo.find({'branch':'Radhuset'}):\n",
    "    print(record)"
   ]
  },
  {
   "cell_type": "code",
   "execution_count": 17,
   "id": "567efd62-63bd-4b7d-bb36-96c6daade9c7",
   "metadata": {},
   "outputs": [
    {
     "name": "stdout",
     "output_type": "stream",
     "text": [
      "{'_id': ObjectId('63a8cb4dc5af49a19f3821a0'), 'restaurantName': 'Waynes Coffee', 'region': 'Stockholm', 'branch': 'Fredhemsplan', 'manager': 'Bruce Willis', 'openedyear': 2003}\n",
      "{'_id': ObjectId('63a8cb4dc5af49a19f3821a1'), 'restaurantName': 'Waynes Coffee', 'region': 'Stockholm', 'branch': 'Solna', 'manager': 'Tom Cruise', 'openedyear': 2004}\n"
     ]
    }
   ],
   "source": [
    "## Query documents using query operators($in,$lt,$gt)\n",
    "for record in restaurantInfo.find({'branch':{'$in':['Fredhemsplan','Solna']}}):\n",
    "    print(record)"
   ]
  },
  {
   "cell_type": "code",
   "execution_count": 18,
   "id": "c3c0a0d8-8712-45b0-92e8-e6ec5b34a794",
   "metadata": {},
   "outputs": [
    {
     "name": "stdout",
     "output_type": "stream",
     "text": [
      "{'_id': ObjectId('63a8ca3ec5af49a19f38219e'), 'restaurantName': 'Waynes Coffee', 'region': 'Stockholm', 'branch': 'T-Centralen', 'manager': 'John Snow', 'openedyear': 2000}\n",
      "{'_id': ObjectId('63a8cb4dc5af49a19f38219f'), 'restaurantName': 'Waynes Coffee', 'region': 'Stockholm', 'branch': 'Radhuset', 'manager': 'Tom Hanks', 'openedyear': 2002}\n",
      "{'_id': ObjectId('63a8cb4dc5af49a19f3821a2'), 'restaurantName': 'Waynes Coffee', 'region': 'Stockholm', 'branch': 'Sundyberg', 'manager': 'Vin Diesel', 'openedyear': 2001}\n"
     ]
    }
   ],
   "source": [
    "## And and less than Query operator\n",
    "for record in restaurantInfo.find({'region':'Stockholm','openedyear':{'$lt':2003}}):\n",
    "    print(record)"
   ]
  },
  {
   "cell_type": "code",
   "execution_count": 19,
   "id": "f6e66b06-086f-407b-bd1b-96dc8115c373",
   "metadata": {},
   "outputs": [
    {
     "name": "stdout",
     "output_type": "stream",
     "text": [
      "{'_id': ObjectId('63a8cb4dc5af49a19f3821a1'), 'restaurantName': 'Waynes Coffee', 'region': 'Stockholm', 'branch': 'Solna', 'manager': 'Tom Cruise', 'openedyear': 2004}\n"
     ]
    }
   ],
   "source": [
    "## And and greater than Query operator\n",
    "for record in restaurantInfo.find({'region':'Stockholm','openedyear':{'$gt':2003}}):\n",
    "    print(record)"
   ]
  },
  {
   "cell_type": "code",
   "execution_count": 20,
   "id": "f0cb1cf3-9824-4a69-b5a5-ffba3dd2922b",
   "metadata": {},
   "outputs": [
    {
     "name": "stdout",
     "output_type": "stream",
     "text": [
      "{'_id': ObjectId('63a8cb4dc5af49a19f3821a1'), 'restaurantName': 'Waynes Coffee', 'region': 'Stockholm', 'branch': 'Solna', 'manager': 'Tom Cruise', 'openedyear': 2004}\n",
      "{'_id': ObjectId('63a8cb4dc5af49a19f3821a2'), 'restaurantName': 'Waynes Coffee', 'region': 'Stockholm', 'branch': 'Sundyberg', 'manager': 'Vin Diesel', 'openedyear': 2001}\n"
     ]
    }
   ],
   "source": [
    "## OR operators\n",
    "for record in restaurantInfo.find({'$or':[{'branch':'Sundyberg'},{'branch':'Solna'}]}):\n",
    "    print(record)"
   ]
  },
  {
   "cell_type": "code",
   "execution_count": 24,
   "id": "81dc0b3c-8e71-4fb7-a465-27b6bc638729",
   "metadata": {},
   "outputs": [],
   "source": [
    "productsInfo=mydb.products"
   ]
  },
  {
   "cell_type": "code",
   "execution_count": 25,
   "id": "1cd5b3b9-02cb-4157-92a7-282bfef9547f",
   "metadata": {},
   "outputs": [],
   "source": [
    "inventory=mydb.inventory"
   ]
  },
  {
   "cell_type": "code",
   "execution_count": 26,
   "id": "c33bbdc9-e2e8-49bc-8492-e51a9c5483d8",
   "metadata": {},
   "outputs": [],
   "source": [
    "inventory.insert_many( [\n",
    "   { 'item': \"journal\", 'qty': 25, 'size': { 'h': 14, 'w': 21,'uom': \"cm\" }, 'status': \"A\" },\n",
    "   { 'item': \"notebook\", 'qty': 50,'size': { 'h': 8.5, 'w': 11,'uom': \"in\" },'status': \"A\" },\n",
    "   { 'item': \"paper\", 'qty': 100, 'size': { 'h': 8.5, 'w': 11,'uom': \"in\" },'status': \"D\" },\n",
    "   { 'item': \"planner\", 'qty': 75, 'size': { 'h': 22.85,'w': 30,'uom': \"cm\" },'status': \"D\" },\n",
    "   { 'item': \"postcard\", 'qty': 45, 'size': { 'h': 10, 'w': 15.25,'uom': \"cm\" },'status': \"A\" }\n",
    "]);"
   ]
  },
  {
   "cell_type": "code",
   "execution_count": 27,
   "id": "adf9299e-d26e-411f-a772-591162dded8b",
   "metadata": {},
   "outputs": [
    {
     "name": "stdout",
     "output_type": "stream",
     "text": [
      "{'_id': ObjectId('63aafdccc5af49a19f3821a3'), 'item': 'journal', 'qty': 25, 'size': {'h': 14, 'w': 21, 'uom': 'cm'}, 'status': 'A'}\n",
      "{'_id': ObjectId('63aafde1c5af49a19f3821a8'), 'item': 'journal', 'qty': 25, 'size': {'h': 14, 'w': 21, 'uom': 'cm'}, 'status': 'A'}\n"
     ]
    }
   ],
   "source": [
    "for records in inventory.find({'size': { 'h': 14, 'w': 21,'uom': \"cm\" }}):\n",
    "    print(records)"
   ]
  },
  {
   "cell_type": "code",
   "execution_count": null,
   "id": "797d5661-4c1a-4bfa-a29f-79c27c09d384",
   "metadata": {},
   "outputs": [],
   "source": []
  }
 ],
 "metadata": {
  "kernelspec": {
   "display_name": "Python 3 (ipykernel)",
   "language": "python",
   "name": "python3"
  },
  "language_info": {
   "codemirror_mode": {
    "name": "ipython",
    "version": 3
   },
   "file_extension": ".py",
   "mimetype": "text/x-python",
   "name": "python",
   "nbconvert_exporter": "python",
   "pygments_lexer": "ipython3",
   "version": "3.10.7"
  }
 },
 "nbformat": 4,
 "nbformat_minor": 5
}
