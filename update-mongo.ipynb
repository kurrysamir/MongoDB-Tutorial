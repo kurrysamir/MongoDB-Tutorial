{
 "cells": [
  {
   "cell_type": "code",
   "execution_count": 1,
   "id": "74e9dcda-c0b6-4735-be82-d20de314b9fc",
   "metadata": {},
   "outputs": [],
   "source": [
    "import pymongo\n",
    "\n",
    "client=pymongo.MongoClient('mongodb://127.0.0.1:27017/')\n",
    "\n",
    "mydb=client['Employee']\n",
    "inventory=mydb.inventory"
   ]
  },
  {
   "cell_type": "code",
   "execution_count": 2,
   "id": "ac5c5f5e-3c6a-4a33-a8a5-118c44fe355c",
   "metadata": {},
   "outputs": [
    {
     "data": {
      "text/plain": [
       "<pymongo.results.InsertManyResult at 0x21ff69cbf70>"
      ]
     },
     "execution_count": 2,
     "metadata": {},
     "output_type": "execute_result"
    }
   ],
   "source": [
    "inventory.insert_many([\n",
    "    {\"item\": \"canvas\",\n",
    "     \"qty\": 100,\n",
    "     \"size\": {\"h\": 28, \"w\": 35.5, \"uom\": \"cm\"},\n",
    "     \"status\": \"A\"},\n",
    "    {\"item\": \"journal\",\n",
    "     \"qty\": 25,\n",
    "     \"size\": {\"h\": 14, \"w\": 21, \"uom\": \"cm\"},\n",
    "     \"status\": \"A\"},\n",
    "    {\"item\": \"mat\",\n",
    "     \"qty\": 85,\n",
    "     \"size\": {\"h\": 27.9, \"w\": 35.5, \"uom\": \"cm\"},\n",
    "     \"status\": \"A\"},\n",
    "    {\"item\": \"mousepad\",\n",
    "     \"qty\": 25,\n",
    "     \"size\": {\"h\": 19, \"w\": 22.85, \"uom\": \"cm\"},\n",
    "     \"status\": \"P\"},\n",
    "    {\"item\": \"notebook\",\n",
    "     \"qty\": 50,\n",
    "     \"size\": {\"h\": 8.5, \"w\": 11, \"uom\": \"in\"},\n",
    "     \"status\": \"P\"},\n",
    "    {\"item\": \"paper\",\n",
    "     \"qty\": 100,\n",
    "     \"size\": {\"h\": 8.5, \"w\": 11, \"uom\": \"in\"},\n",
    "     \"status\": \"D\"},\n",
    "    {\"item\": \"planner\",\n",
    "     \"qty\": 75,\n",
    "     \"size\": {\"h\": 22.85, \"w\": 30, \"uom\": \"cm\"},\n",
    "     \"status\": \"D\"},\n",
    "    {\"item\": \"postcard\",\n",
    "     \"qty\": 45,\n",
    "     \"size\": {\"h\": 10, \"w\": 15.25, \"uom\": \"cm\"},\n",
    "     \"status\": \"A\"},\n",
    "    {\"item\": \"sketchbook\",\n",
    "     \"qty\": 80,\n",
    "     \"size\": {\"h\": 14, \"w\": 21, \"uom\": \"cm\"},\n",
    "     \"status\": \"A\"},\n",
    "    {\"item\": \"sketch pad\",\n",
    "     \"qty\": 95,\n",
    "     \"size\": {\"h\": 22.85, \"w\": 30.5, \"uom\": \"cm\"},\n",
    "     \"status\": \"A\"}])"
   ]
  },
  {
   "cell_type": "code",
   "execution_count": 3,
   "id": "de200d02-eb89-4b59-9863-10ae2e1fc60d",
   "metadata": {},
   "outputs": [
    {
     "data": {
      "text/plain": [
       "<pymongo.results.UpdateResult at 0x21ff505e080>"
      ]
     },
     "execution_count": 3,
     "metadata": {},
     "output_type": "execute_result"
    }
   ],
   "source": [
    "inventory.update_one(\n",
    "{\"item\":\"sketch pad\"},\n",
    "{\"$set\":{\"size.uom\":\"m\",\"status\":\"P\"},\n",
    "\"$currentDate\":{\"lastModified\":True}}\n",
    ")"
   ]
  },
  {
   "cell_type": "code",
   "execution_count": 4,
   "id": "f68cd2a7-4446-41cb-9be3-37f719bb9381",
   "metadata": {},
   "outputs": [
    {
     "data": {
      "text/plain": [
       "<pymongo.results.UpdateResult at 0x21ff505da80>"
      ]
     },
     "execution_count": 4,
     "metadata": {},
     "output_type": "execute_result"
    }
   ],
   "source": [
    "inventory.update_many(\n",
    "    {\"qty\": {\"$lt\": 50}},\n",
    "    {\"$set\": {\"size.uom\": \"in\", \"status\": \"P\"},\n",
    "     \"$currentDate\": {\"lastModified\": True}})"
   ]
  },
  {
   "cell_type": "code",
   "execution_count": 5,
   "id": "16160f29-ffcf-4d52-a597-9d7a8204c1b3",
   "metadata": {},
   "outputs": [
    {
     "data": {
      "text/plain": [
       "<pymongo.results.UpdateResult at 0x21ff505c760>"
      ]
     },
     "execution_count": 5,
     "metadata": {},
     "output_type": "execute_result"
    }
   ],
   "source": [
    "inventory.replace_one(\n",
    "    {\"item\": \"paper\"},\n",
    "    {\"item\": \"paper\",\n",
    "     \"instock\": [\n",
    "         {\"warehouse\": \"A\", \"qty\": 60},\n",
    "         {\"warehouse\": \"B\", \"qty\": 40}]})"
   ]
  },
  {
   "cell_type": "code",
   "execution_count": null,
   "id": "76856aba-ceeb-4436-9a94-4de058592ad0",
   "metadata": {},
   "outputs": [],
   "source": []
  }
 ],
 "metadata": {
  "kernelspec": {
   "display_name": "Python 3 (ipykernel)",
   "language": "python",
   "name": "python3"
  },
  "language_info": {
   "codemirror_mode": {
    "name": "ipython",
    "version": 3
   },
   "file_extension": ".py",
   "mimetype": "text/x-python",
   "name": "python",
   "nbconvert_exporter": "python",
   "pygments_lexer": "ipython3",
   "version": "3.10.7"
  }
 },
 "nbformat": 4,
 "nbformat_minor": 5
}
